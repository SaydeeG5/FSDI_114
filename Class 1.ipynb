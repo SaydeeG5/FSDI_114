{
 "cells": [
  {
   "cell_type": "code",
   "execution_count": 85,
   "id": "91d27af1",
   "metadata": {},
   "outputs": [
    {
     "name": "stdout",
     "output_type": "stream",
     "text": [
      "H\n",
      "e\n",
      "l\n",
      "l\n",
      "o\n",
      " \n",
      "W\n",
      "o\n",
      "r\n",
      "l\n",
      "d\n"
     ]
    }
   ],
   "source": [
    "for letter in \"Hello World\":\n",
    "    print (letter)"
   ]
  },
  {
   "cell_type": "markdown",
   "id": "1b572515",
   "metadata": {},
   "source": [
    "# Problem 1\n",
    "### Given two strings (string_a and string_b) determine if these are anagrams of each other.\n",
    "Your function , \"are_anagrams\" must receive two strings and return True if these are anagrams of each other, False otherwise.\n",
    "\n",
    "_Criteria_:\n",
    "Two strings are anagrams of each other if and only if: \n",
    "1. They are exactly the same length.\n",
    "2. They use the exact same characters, the same amount of times. \n",
    "\n",
    "\n",
    "Examples: \n",
    "```\n",
    "cars and scar\n",
    "heart and earth\n",
    "etc\n",
    "```"
   ]
  },
  {
   "cell_type": "markdown",
   "id": "4d751231",
   "metadata": {},
   "source": [
    "# check for len of words \n",
    "## if they do not have the same length = false (stop there) \n",
    "### else : transform words to lowercase (.lower) \n",
    "#### sort the strings (sorted() )  (note to self: research .join ) to know how to put the string together , research if they can be put together ) \n",
    "##### now if the lowercase and sorted strings match print true else  print false \n",
    "  "
   ]
  },
  {
   "cell_type": "markdown",
   "id": "ce60d02b",
   "metadata": {},
   "source": []
  },
  {
   "cell_type": "code",
   "execution_count": 103,
   "id": "c0d96f5e",
   "metadata": {},
   "outputs": [],
   "source": [
    "def are_anagrams(word_1, word_2):\n",
    "    \n",
    "    if len(word_1)!=len(word_2):\n",
    "        print (\"false\")\n",
    "        \n",
    "    else: \n",
    "        if sorted (word_1.lower()) == sorted (word_2.lower()):\n",
    "        \n",
    "            print(\"true\")\n",
    "    \n",
    "        else: \n",
    "            print (\"false\")\n",
    "        \n"
   ]
  },
  {
   "cell_type": "code",
   "execution_count": 105,
   "id": "082dc29f",
   "metadata": {},
   "outputs": [
    {
     "name": "stdout",
     "output_type": "stream",
     "text": [
      "false\n"
     ]
    }
   ],
   "source": [
    "are_anagrams(\"have\", \"earth\")"
   ]
  },
  {
   "cell_type": "markdown",
   "id": "09f3e9ac",
   "metadata": {},
   "source": [
    "* no need for the .join it works without it however figure out how to put .lower \n",
    "The error about the lower () \n",
    "\n",
    "---------------------------------------------------------------------------\n",
    "AttributeError                            Traceback (most recent call last)\n",
    "Cell In[61], line 1\n",
    "----> 1 are_anagrams(\"Cars\", \"scar\")\n",
    "\n",
    "Cell In[60], line 7, in are_anagrams(word_1, word_2)\n",
    "      4     print (\"false\")\n",
    "      6 else: \n",
    "----> 7     if sorted(word_1).lower()==sorted(word_2).lower():\n",
    "      9         print(\"true\")\n",
    "     11     else: \n",
    "\n",
    "AttributeError: 'list' object has no attribute 'lower'"
   ]
  },
  {
   "cell_type": "markdown",
   "id": "0a36922c",
   "metadata": {},
   "source": [
    "# FSDI 114-2 "
   ]
  },
  {
   "cell_type": "markdown",
   "id": "4d897a0a",
   "metadata": {},
   "source": [
    "def are_anagrams (string_a , string_b):\n",
    "    pass \n",
    "assert are_anagrams (\"cars,\"\"scar\") == True \n",
    "assert are_anagrams (\"cars,\"\"ccrs\") == False \n"
   ]
  },
  {
   "cell_type": "code",
   "execution_count": null,
   "id": "8e14fd6f",
   "metadata": {},
   "outputs": [],
   "source": []
  }
 ],
 "metadata": {
  "kernelspec": {
   "display_name": "Python 3 (ipykernel)",
   "language": "python",
   "name": "python3"
  },
  "language_info": {
   "codemirror_mode": {
    "name": "ipython",
    "version": 3
   },
   "file_extension": ".py",
   "mimetype": "text/x-python",
   "name": "python",
   "nbconvert_exporter": "python",
   "pygments_lexer": "ipython3",
   "version": "3.11.1"
  }
 },
 "nbformat": 4,
 "nbformat_minor": 5
}
