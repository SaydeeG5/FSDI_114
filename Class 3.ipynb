{
 "cells": [
  {
   "cell_type": "code",
   "execution_count": 8,
   "id": "e0ed2f2e",
   "metadata": {},
   "outputs": [],
   "source": [
    "class Node: \n",
    "    def __init__(self, data):  # building blocks are nodes \n",
    "        self.data = data\n",
    "        self.above = None \n",
    "        \n",
    "class Stack:\n",
    "    def __init__ (self):\n",
    "        self.base = None \n",
    "        \n",
    "    def push (self, item):    # big 0(1) \n",
    "        new_node = Node(item) # we are always creating a new node \n",
    "        if not self.base:     # if self.base == None \n",
    "            self.base = new_node \n",
    "        else:                 # big O(n) linear \n",
    "        \n",
    "            current = self.base\n",
    "            while current.above:  # while curent.above !=None .We are traversing until we reach conditon a pointer above set to none \n",
    "                current = current.above\n",
    "            current.above = new_node \n",
    "            \n",
    "    def pop(self):\n",
    "        # Our pop operations must , at a minimum , do two things:\n",
    "        # 1. Remove an element from our collection (our stack)\n",
    "        # 2. Return the value that element (or Node) is holding.\n",
    "        current = self.base\n",
    "        if not current: \n",
    "            return current\n",
    "        prev = None\n",
    "        while current.above:\n",
    "            prev = current\n",
    "            current = current.above\n",
    "                #print(\"prev: %s\" % prev.data)\n",
    "                #print(\"current: %s\" % current.data)\n",
    "        target_data = current.data\n",
    "        if prev:\n",
    "            prev.above = None\n",
    "        else:\n",
    "            self.base = None\n",
    "        return target_data\n",
    "    \n",
    "    \n",
    "    def peek(self):\n",
    "        return self.items[len(self.items)-1]\n",
    "    \n",
    "    def is_empty(self):  \n",
    "        if self.base:  # if this is not empty \n",
    "            return False \n",
    "        return True \n",
    "        \n",
    "    \n",
    "    def size(self):\n",
    "        return len(self.items)\n",
    "        \n",
    "\n"
   ]
  },
  {
   "cell_type": "code",
   "execution_count": 9,
   "id": "66173033",
   "metadata": {},
   "outputs": [
    {
     "name": "stdout",
     "output_type": "stream",
     "text": [
      "True\n"
     ]
    }
   ],
   "source": [
    "s = Stack()\n",
    "print(s.is_empty())"
   ]
  },
  {
   "cell_type": "markdown",
   "id": "5ac27c1d",
   "metadata": {},
   "source": [
    "    # Notes \n",
    "    \n",
    "    def size(self):\n",
    "        return len(self.items)\n",
    "    \n",
    "    def peek (self):\n",
    "        return self.items [len(self.items) -1]  # length - 1 because remember indexing starts at 0 \n",
    "    \n",
    "    def is_empty (self):\n",
    "        return self.items == []\n",
    "        \n",
    "### Stack() creates a new stack that is empty. It needs no parameters and returns an empty stack. \n",
    "\n",
    "### push(item) adds a new item to the top of the stack. It needs he item and runs nothing. \n",
    "\n",
    "### pop() removes the top item from the stack. It needs no parameters and returns the item. The stack is modified . \n",
    "\n",
    "### peek() returns the top item from the stack but does not remove it. It needs no parameters. The stack is not modified. \n",
    "\n",
    "### isEmpty() tests to see whether the stack is empty. It needs no parameters and returns a boolean value . \n",
    "\n",
    "### size() returns the number of items on the stack. It needs no parameters and returns an integer. \n",
    "            "
   ]
  },
  {
   "cell_type": "code",
   "execution_count": null,
   "id": "f567db37",
   "metadata": {},
   "outputs": [],
   "source": []
  },
  {
   "cell_type": "code",
   "execution_count": null,
   "id": "2ab9ffb3",
   "metadata": {},
   "outputs": [],
   "source": []
  },
  {
   "cell_type": "code",
   "execution_count": 3,
   "id": "8ab2c5be",
   "metadata": {},
   "outputs": [
    {
     "data": {
      "text/plain": [
       "'eedyas'"
      ]
     },
     "execution_count": 3,
     "metadata": {},
     "output_type": "execute_result"
    }
   ],
   "source": [
    "def invert_str(mystring):\n",
    "    stack = Stack()\n",
    "    for letter in mystring: \n",
    "        stack.push(letter)\n",
    "    out = \"\" \n",
    "    is_empty = False\n",
    "    while not is_empty: \n",
    "        letter = stack.pop()\n",
    "        if not letter: \n",
    "            is_empty = True \n",
    "        else:\n",
    "            out +=letter\n",
    "    return out \n",
    "\n",
    "invert_str(\"saydee\")\n",
    "   \n"
   ]
  },
  {
   "cell_type": "code",
   "execution_count": null,
   "id": "1abea9d1",
   "metadata": {},
   "outputs": [],
   "source": [
    "# simplified implementation of queue using python list \n",
    "class Queue: \n",
    "    def __init__(self):\n",
    "        self.items = []\n",
    "        \n",
    "    def enqueue (self, item):\n",
    "        self.items.insert(0, item)\n",
    "    \n",
    "    def dequeue(self):\n",
    "        return self.items.pop()  # from here to (line 10 - 2) necessary to implement a queue (core compoments of queue)\n",
    "    \n",
    "    #Helper Methods: \n",
    "    def peek(self):\n",
    "        return self.items[len(self.items)-1]\n",
    "    \n",
    "    def size(self):\n",
    "        return len(self.items)\n",
    "    \n",
    "    def is_empty(self):\n",
    "        return self.items == []"
   ]
  },
  {
   "cell_type": "code",
   "execution_count": null,
   "id": "6c8c3664",
   "metadata": {},
   "outputs": [],
   "source": []
  }
 ],
 "metadata": {
  "kernelspec": {
   "display_name": "Python 3 (ipykernel)",
   "language": "python",
   "name": "python3"
  },
  "language_info": {
   "codemirror_mode": {
    "name": "ipython",
    "version": 3
   },
   "file_extension": ".py",
   "mimetype": "text/x-python",
   "name": "python",
   "nbconvert_exporter": "python",
   "pygments_lexer": "ipython3",
   "version": "3.11.1"
  }
 },
 "nbformat": 4,
 "nbformat_minor": 5
}
