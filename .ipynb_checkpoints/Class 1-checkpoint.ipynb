{
 "cells": [
  {
   "cell_type": "code",
   "execution_count": 3,
   "id": "91d27af1",
   "metadata": {},
   "outputs": [
    {
     "name": "stdout",
     "output_type": "stream",
     "text": [
      "H\n",
      "e\n",
      "l\n",
      "l\n",
      "o\n",
      " \n",
      "W\n",
      "o\n",
      "r\n",
      "l\n",
      "d\n"
     ]
    }
   ],
   "source": [
    "for letter in \"Hello World\":\n",
    "    print (letter)"
   ]
  },
  {
   "cell_type": "markdown",
   "id": "1b572515",
   "metadata": {},
   "source": [
    "# Problem 1\n",
    "### Given two strings (string_a and string_b) determine if these are anagrams of each other.\n",
    "Your function , \"are_anagrams\" must receive two strings and return True if these are anagrams of each other, False otherwise.\n",
    "\n",
    "_Criteria_:\n",
    "Two strings are anagrams of each other if and only if: \n",
    "1. They are exactly the same length.\n",
    "2. They use the exact same characters, the same amount of times. \n",
    "\n",
    "\n",
    "Examples: \n",
    "```\n",
    "cars and scar\n",
    "heart and earth\n",
    "etc\n",
    "```"
   ]
  },
  {
   "cell_type": "markdown",
   "id": "4d751231",
   "metadata": {},
   "source": [
    "# check for len of words \n",
    "## if they do not have the same length = false (stop there) \n",
    "### else : transform words to lowercase (.lower) \n",
    "#### sort the strings (sorted() )  (note to self: research .join ) to know how to put the string together , research if they can be put together ) \n",
    "##### now if the lowercase and sorted strings match print true else  print false \n",
    "  "
   ]
  },
  {
   "cell_type": "markdown",
   "id": "ce60d02b",
   "metadata": {},
   "source": []
  },
  {
   "cell_type": "code",
   "execution_count": null,
   "id": "c0d96f5e",
   "metadata": {},
   "outputs": [],
   "source": []
  },
  {
   "cell_type": "code",
   "execution_count": null,
   "id": "082dc29f",
   "metadata": {},
   "outputs": [],
   "source": []
  }
 ],
 "metadata": {
  "kernelspec": {
   "display_name": "Python 3 (ipykernel)",
   "language": "python",
   "name": "python3"
  },
  "language_info": {
   "codemirror_mode": {
    "name": "ipython",
    "version": 3
   },
   "file_extension": ".py",
   "mimetype": "text/x-python",
   "name": "python",
   "nbconvert_exporter": "python",
   "pygments_lexer": "ipython3",
   "version": "3.11.1"
  }
 },
 "nbformat": 4,
 "nbformat_minor": 5
}
