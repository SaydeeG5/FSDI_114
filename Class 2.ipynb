{
 "cells": [
  {
   "cell_type": "code",
   "execution_count": 1,
   "id": "fee1dcd2",
   "metadata": {},
   "outputs": [],
   "source": [
    "def are_anagrams (string_a, string_b):\n",
    "    string_a = string_a.replace(\" \",\"\")\n",
    "    string_b = string_b.replace(\" \",\"\")\n",
    "    string_a = string_a.lower()\n",
    "    string_b = string_b.lower()\n",
    "    if len(string_a) != len(string_b): # O(1) or constant time \n",
    "        return False\n",
    "    times_a = dict()                   # O(n) or linear time (what causes this because the for loop)\n",
    "    times_b = dict()\n",
    "    for i in range (len(string_a)):    \n",
    "        if string_a[i] not in times_a.keys():\n",
    "            times_a[string_a[i]] = 1\n",
    "            \n",
    "        else: \n",
    "            times_a[string_a[i]] += 1  # shorthand for times_a [string_a[i]] + times_a[string_a[i]] + 1\n",
    "        if string_b[i] not in times_b.keys():\n",
    "            times_b[string_b[i]] = 1\n",
    "        else: \n",
    "            times_b[string_b[i]] += 1\n",
    "    return times_a == times_b\n",
    "\n",
    "# is this correct solution ,yes ,  but there are more solution  \n",
    "# if you have a \"+\" symbol u know you will always have to add number "
   ]
  },
  {
   "cell_type": "code",
   "execution_count": 6,
   "id": "4d8ab09e",
   "metadata": {},
   "outputs": [],
   "source": [
    "# Fast implementation \n",
    "\n",
    "class Stack: \n",
    "    def __init__(self):\n",
    "        self.times = [] #python list \n",
    "    \n",
    "    def push(self, item):\n",
    "        self.items.append(item)\n",
    "    \n",
    "    def pop(self):\n",
    "        return self.items.pop()  # from here and up , interview setting \n",
    "    \n",
    "    # helper methods:\n",
    "    \n",
    "    def size(self):\n",
    "        return len(self.items)\n",
    "    \n",
    "    def peek (self):\n",
    "        return self.items [len(self.items) -1]\n",
    "    \n",
    "    def is_empty (self):\n",
    "        return self.items == []\n",
    "    \n"
   ]
  },
  {
   "cell_type": "markdown",
   "id": "b936f6a0",
   "metadata": {},
   "source": [
    "# Problem 2 \n",
    "### Use a stack to invert a string. \n",
    "Given a string such as \"Rafael\" create a function that inverts itk for ecample , it should return \"leafar\".\n",
    "```\n",
    "examples: \n",
    "cars and srac\n",
    "hello and olleh\n",
    "```\n"
   ]
  },
  {
   "cell_type": "code",
   "execution_count": 11,
   "id": "1c5c47b2",
   "metadata": {},
   "outputs": [
    {
     "ename": "NameError",
     "evalue": "name 'Stack' is not defined",
     "output_type": "error",
     "traceback": [
      "\u001b[0;31m---------------------------------------------------------------------------\u001b[0m",
      "\u001b[0;31mNameError\u001b[0m                                 Traceback (most recent call last)",
      "Cell \u001b[0;32mIn[11], line 15\u001b[0m\n\u001b[1;32m     12\u001b[0m             out \u001b[38;5;241m+\u001b[39m\u001b[38;5;241m=\u001b[39mletter\n\u001b[1;32m     13\u001b[0m     \u001b[38;5;28;01mreturn\u001b[39;00m out \n\u001b[0;32m---> 15\u001b[0m \u001b[43minvert_str\u001b[49m\u001b[43m(\u001b[49m\u001b[38;5;124;43m\"\u001b[39;49m\u001b[38;5;124;43mcars\u001b[39;49m\u001b[38;5;124;43m\"\u001b[39;49m\u001b[43m)\u001b[49m\n",
      "Cell \u001b[0;32mIn[11], line 2\u001b[0m, in \u001b[0;36minvert_str\u001b[0;34m(mystring)\u001b[0m\n\u001b[1;32m      1\u001b[0m \u001b[38;5;28;01mdef\u001b[39;00m \u001b[38;5;21minvert_str\u001b[39m(mystring):\n\u001b[0;32m----> 2\u001b[0m     stack \u001b[38;5;241m=\u001b[39m \u001b[43mStack\u001b[49m()\n\u001b[1;32m      3\u001b[0m     \u001b[38;5;28;01mfor\u001b[39;00m letter \u001b[38;5;129;01min\u001b[39;00m mystring: \n\u001b[1;32m      4\u001b[0m         stack\u001b[38;5;241m.\u001b[39mpush(letter)\n",
      "\u001b[0;31mNameError\u001b[0m: name 'Stack' is not defined"
     ]
    }
   ],
   "source": [
    "def invert_str(mystring):\n",
    "    stack = Stack()\n",
    "    for letter in mystring: \n",
    "        stack.push(letter)\n",
    "    out = \"\" \n",
    "    is_empty = False\n",
    "    while not is_empty: \n",
    "        letter = stack.pop()\n",
    "        if not letter: \n",
    "            is_empty = True \n",
    "        else:\n",
    "            out +=letter\n",
    "    return out \n",
    "\n",
    "invert_str(\"cars\")"
   ]
  },
  {
   "cell_type": "code",
   "execution_count": null,
   "id": "38c3bb46",
   "metadata": {},
   "outputs": [],
   "source": []
  },
  {
   "cell_type": "code",
   "execution_count": null,
   "id": "72b29549",
   "metadata": {},
   "outputs": [],
   "source": []
  },
  {
   "cell_type": "code",
   "execution_count": null,
   "id": "342a86d5",
   "metadata": {},
   "outputs": [],
   "source": []
  },
  {
   "cell_type": "code",
   "execution_count": null,
   "id": "cd465093",
   "metadata": {},
   "outputs": [],
   "source": []
  },
  {
   "cell_type": "code",
   "execution_count": null,
   "id": "b09921bc",
   "metadata": {},
   "outputs": [],
   "source": []
  },
  {
   "cell_type": "code",
   "execution_count": null,
   "id": "73638810",
   "metadata": {},
   "outputs": [],
   "source": []
  }
 ],
 "metadata": {
  "kernelspec": {
   "display_name": "Python 3 (ipykernel)",
   "language": "python",
   "name": "python3"
  },
  "language_info": {
   "codemirror_mode": {
    "name": "ipython",
    "version": 3
   },
   "file_extension": ".py",
   "mimetype": "text/x-python",
   "name": "python",
   "nbconvert_exporter": "python",
   "pygments_lexer": "ipython3",
   "version": "3.11.1"
  }
 },
 "nbformat": 4,
 "nbformat_minor": 5
}
